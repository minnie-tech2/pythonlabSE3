{
 "cells": [
  {
   "cell_type": "code",
   "execution_count": 7,
   "id": "424ff0bc-ec30-4400-a30f-56982c480676",
   "metadata": {},
   "outputs": [
    {
     "name": "stdout",
     "output_type": "stream",
     "text": [
      "after writing:\n",
      "This is the initial content.\n",
      "\n",
      "\n",
      "after appending:\n",
      "This is the initial content.\n",
      "This is the appended content.\n",
      "\n"
     ]
    }
   ],
   "source": [
    "from contextlib import contextmanager\n",
    "#Manaswi Nitin Patil SE3-S1\n",
    "\n",
    "@contextmanager\n",
    "def genericFileFunction(filename, method):\n",
    "    file = open(filename, method)\n",
    "    yield file\n",
    "    file.close()\n",
    "\n",
    "if __name__ == '__main__':\n",
    "\n",
    "    with genericFileFunction('sample.txt', 'w') as file:\n",
    "        file.write('This is the initial content.\\n')\n",
    "\n",
    " \n",
    "    with genericFileFunction('sample.txt', 'r') as file:\n",
    "        print(\"after writing:\")\n",
    "        print(file.read())\n",
    "\n",
    "\n",
    "    with genericFileFunction('sample.txt', 'a') as file:\n",
    "        file.write('This is the appended content.\\n')\n",
    "\n",
    "   \n",
    "    with genericFileFunction('sample.txt', 'r') as file:\n",
    "        print(\"\\nafter appending:\")\n",
    "        print(file.read())"
   ]
  }
 ],
 "metadata": {
  "kernelspec": {
   "display_name": "Python 3 (ipykernel)",
   "language": "python",
   "name": "python3"
  },
  "language_info": {
   "codemirror_mode": {
    "name": "ipython",
    "version": 3
   },
   "file_extension": ".py",
   "mimetype": "text/x-python",
   "name": "python",
   "nbconvert_exporter": "python",
   "pygments_lexer": "ipython3",
   "version": "3.13.1"
  }
 },
 "nbformat": 4,
 "nbformat_minor": 5
}
