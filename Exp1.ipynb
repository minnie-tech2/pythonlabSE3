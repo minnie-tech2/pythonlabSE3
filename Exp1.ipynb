{
 "cells": [
  {
   "cell_type": "code",
   "execution_count": null,
   "id": "1b58cf55-d897-4894-abe5-792d8f6ee55c",
   "metadata": {},
   "outputs": [
    {
     "name": "stdout",
     "output_type": "stream",
     "text": [
      "This is a string\n",
      "This is a string\n",
      "This is a string\n",
      "[1, 'a', 'string', 3]\n",
      "[1, 'a', 'string', 3, 6]\n",
      "[1, 'a', 'string', 3]\n",
      "a\n",
      "(1, 'a', 'string', 3)\n",
      "a\n",
      "{1: 'Lorem', 2: 'Ipsum', 3: 'Dolerum'}\n",
      "{1: 'harry ', 2: 'Potter', 3: 'Series'}\n",
      "{'a': 'alice', 'b': 'in', 'c': 'Wonderland'}\n",
      "aestha\n",
      "aestha\n",
      "{1: 'Python dict', 2: 'Potter', 3: 'Series', 'age': 22}\n",
      "{1: 'Manaswi', 2: 'mausamiksha', 4: 'om', 'age': 20}\n"
     ]
    }
   ],
   "source": [
    "# Assigning string to a variable\n",
    "#Manaswi nitn Patil SE3-S1\n",
    "a = 'This is a string'\n",
    "print(a)\n",
    "b = \"This is a string\"\n",
    "print(b)\n",
    "c = '''This is a string'''\n",
    "print(c)\n",
    "\n",
    "# Declaring a list\n",
    "L = [1, \"a\", \"string\", 1+2]\n",
    "print(L)\n",
    "L.append(6)\n",
    "print(L)\n",
    "L.pop()\n",
    "print(L)\n",
    "print(L[1])\n",
    "\n",
    "# Tuples in Python\n",
    "tup = (1, \"a\", \"string\", 1+2)\n",
    "print(tup)\n",
    "print(tup[1])\n",
    "\n",
    "# Dictionaries in Python\n",
    "d = {1: 'Lorem', 2: 'Ipsum', 3: 'Dolerum'}\n",
    "print(d)\n",
    "\n",
    "d1 = {1: 'harry ', 2: 'Potter', 3: 'Series'}\n",
    "print(d1)\n",
    "\n",
    "d2 = dict(a=\"alice\", b=\"in\", c=\"Wonderland\")\n",
    "print(d2)\n",
    "\n",
    "d = {\"name\": \"aestha\", 1: \"Python\", (1, 2): [1, 2, 4]}\n",
    "print(d[\"name\"])\n",
    "print(d.get(\"name\"))\n",
    "\n",
    "d = {1: 'Harry', 2: 'Potter', 3: 'Series'}\n",
    "d[\"age\"] = 22\n",
    "d[1] = \"Python dict\"\n",
    "print(d)\n",
    "\n",
    "\n",
    "d ={ 1:'Manaswi', 2:'samiksha',3:'soham',4:'om'}\n",
    "d[\"age\"] = 20\n",
    "d[2] = \"mausamiksha\"\n",
    "del d [3]\n",
    "print(d)\n"
   ]
  },
  {
   "cell_type": "code",
   "execution_count": null,
   "id": "771a956c-5400-4726-8de1-4811034ba919",
   "metadata": {},
   "outputs": [],
   "source": []
  }
 ],
 "metadata": {
  "kernelspec": {
   "display_name": "Python 3 (ipykernel)",
   "language": "python",
   "name": "python3"
  },
  "language_info": {
   "codemirror_mode": {
    "name": "ipython",
    "version": 3
   },
   "file_extension": ".py",
   "mimetype": "text/x-python",
   "name": "python",
   "nbconvert_exporter": "python",
   "pygments_lexer": "ipython3",
   "version": "3.13.1"
  }
 },
 "nbformat": 4,
 "nbformat_minor": 5
}
