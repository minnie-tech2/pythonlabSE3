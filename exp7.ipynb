{
 "cells": [
  {
   "cell_type": "code",
   "execution_count": 2,
   "id": "70bbdc65-cedd-41f0-be32-0bc0a62b4486",
   "metadata": {},
   "outputs": [
    {
     "name": "stdout",
     "output_type": "stream",
     "text": [
      "Record added successfully!\n",
      "Record added successfully!\n",
      "Student with ID 1 age updated to 21!\n",
      "Student with ID 2 deleted successfully!\n",
      "Student Records:\n",
      "(1, 'Alice', 21)\n"
     ]
    }
   ],
   "source": [
    "import sqlite3\n",
    "\n",
    "connection = sqlite3.connect('./genericDatabase.db')\n",
    "cursor = connection.cursor()\n",
    "\n",
    "cursor.execute('''\n",
    "    CREATE TABLE IF NOT EXISTS students (\n",
    "        id INTEGER PRIMARY KEY AUTOINCREMENT,\n",
    "        name TEXT NOT NULL,\n",
    "        age INTEGER NOT NULL\n",
    "    )\n",
    "''')\n",
    "\n",
    "connection.commit()\n",
    "\n",
    "def create_student(name, age):\n",
    "    cursor.execute('''\n",
    "        INSERT INTO students (name, age) \n",
    "        VALUES (?, ?)\n",
    "    ''', (name, age))\n",
    "    connection.commit()\n",
    "    print(\"Record added successfully!\")\n",
    "\n",
    "def read_students():\n",
    "    cursor.execute('SELECT * FROM students')\n",
    "    rows = cursor.fetchall()\n",
    "    print(\"Student Records:\")\n",
    "    for row in rows:\n",
    "        print(row)\n",
    "\n",
    "def update_student_age(student_id, new_age):\n",
    "    cursor.execute('''\n",
    "        UPDATE students \n",
    "        SET age = ? \n",
    "        WHERE id = ?\n",
    "    ''', (new_age, student_id))\n",
    "    connection.commit()\n",
    "    print(f\"Student with ID {student_id} age updated to {new_age}!\")\n",
    "\n",
    "def delete_student(student_id):\n",
    "    cursor.execute('''\n",
    "        DELETE FROM students \n",
    "        WHERE id = ?\n",
    "    ''', (student_id,))\n",
    "    connection.commit()\n",
    "    print(f\"Student with ID {student_id} deleted successfully!\")\n",
    "\n",
    "create_student(\"Alice\", 20)\n",
    "create_student(\"Bob\", 22)\n",
    "\n",
    "update_student_age(1, 21)\n",
    "\n",
    "delete_student(2)\n",
    "\n",
    "read_students()\n",
    "\n",
    "connection.close()\n"
   ]
  },
  {
   "cell_type": "code",
   "execution_count": null,
   "id": "0406be85-1466-446c-8d7d-1b4a15641a82",
   "metadata": {},
   "outputs": [],
   "source": []
  }
 ],
 "metadata": {
  "kernelspec": {
   "display_name": "Python 3 (ipykernel)",
   "language": "python",
   "name": "python3"
  },
  "language_info": {
   "codemirror_mode": {
    "name": "ipython",
    "version": 3
   },
   "file_extension": ".py",
   "mimetype": "text/x-python",
   "name": "python",
   "nbconvert_exporter": "python",
   "pygments_lexer": "ipython3",
   "version": "3.12.4"
  }
 },
 "nbformat": 4,
 "nbformat_minor": 5
}
