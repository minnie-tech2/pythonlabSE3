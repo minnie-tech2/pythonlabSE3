{
 "cells": [
  {
   "cell_type": "code",
   "execution_count": 4,
   "id": "4df93f35-7307-4cd3-88ca-7f8f19091e32",
   "metadata": {},
   "outputs": [
    {
     "name": "stdout",
     "output_type": "stream",
     "text": [
      "String: aaabbb, Result: True\n",
      "String: abab, Result: False\n",
      "String: bbb, Result: True\n"
     ]
    }
   ],
   "source": [
    "class ConditionalStatements:\n",
    "    def checkString(self, s: str) -> bool:\n",
    "        seen_b = False  \n",
    "        \n",
    "        for char in s:\n",
    "            if char == 'b':\n",
    "                seen_b = True  \n",
    "            elif char == 'a' and seen_b:\n",
    "                return False\n",
    "        \n",
    "        return True  \n",
    "\n",
    "obj = ConditionalStatements()\n",
    "\n",
    "test_strings = [\"aaabbb\", \"abab\", \"bbb\"]\n",
    "\n",
    "for s in test_strings:\n",
    "    result = obj.checkString(s)\n",
    "    print(f\"String: {s}, Result: {result}\")\n"
   ]
  },
  {
   "cell_type": "code",
   "execution_count": null,
   "id": "592c5606-ca13-4408-b88d-99e1e1068d79",
   "metadata": {},
   "outputs": [],
   "source": []
  }
 ],
 "metadata": {
  "kernelspec": {
   "display_name": "Python 3 (ipykernel)",
   "language": "python",
   "name": "python3"
  },
  "language_info": {
   "codemirror_mode": {
    "name": "ipython",
    "version": 3
   },
   "file_extension": ".py",
   "mimetype": "text/x-python",
   "name": "python",
   "nbconvert_exporter": "python",
   "pygments_lexer": "ipython3",
   "version": "3.13.1"
  }
 },
 "nbformat": 4,
 "nbformat_minor": 5
}
